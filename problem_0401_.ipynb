{
 "cells": [
  {
   "cell_type": "markdown",
   "metadata": {
    "id": "ZzTOjJr9wtkH"
   },
   "source": [
    "## Quiz #0401"
   ]
  },
  {
   "cell_type": "markdown",
   "metadata": {
    "id": "p9c7d2t-wtkX"
   },
   "source": [
    "### \"Optimal number of clusters for K-means clustering\""
   ]
  },
  {
   "cell_type": "code",
   "execution_count": 1,
   "metadata": {
    "id": "A7EHrBL8wtka"
   },
   "outputs": [],
   "source": [
    "import numpy as np\n",
    "import pandas as pd\n",
    "import matplotlib.pyplot as plt\n",
    "from sklearn.datasets import make_blobs\n",
    "from sklearn.cluster import KMeans\n",
    "%matplotlib inline"
   ]
  },
  {
   "cell_type": "markdown",
   "metadata": {
    "id": "UnhePRhvwtkc"
   },
   "source": [
    "#### Answer the following question by providing Python code:"
   ]
  },
  {
   "cell_type": "code",
   "execution_count": 2,
   "metadata": {
    "id": "8x6zSfQQwtkh"
   },
   "outputs": [
    {
     "data": {
      "text/plain": [
       "(150, 8)"
      ]
     },
     "execution_count": 2,
     "metadata": {},
     "output_type": "execute_result"
    }
   ],
   "source": [
    "# We will use simulated data.\n",
    "# 3 clusters in 8 dimensional space.\n",
    "# Hard to visualize!\n",
    "X, label = make_blobs(n_samples=150, n_features=8, centers=3, cluster_std = 2, random_state=123)\n",
    "X.shape"
   ]
  },
  {
   "cell_type": "markdown",
   "metadata": {
    "id": "6bDNCasKwtki"
   },
   "source": [
    "1). Define a function that calculates the \"total internal sum of squares\".\n",
    "- X         :   Data.\n",
    "- centers   :   Array that contains the centroid coordinates. Calculated by kmeans.\n",
    "- clusters  :   Array of cluster labels. Calculated by kmeans. <br> <br>\n",
    "HINT: Implement the formula from the lecture note."
   ]
  },
  {
   "cell_type": "code",
   "execution_count": 8,
   "metadata": {
    "id": "ZE45NPy9wtkl"
   },
   "outputs": [],
   "source": [
    "def total_internal_ss(X, centers, clusters):\n",
    "\n",
    "    N_clusters = centers.shape[0]\n",
    "    N_columns = centers.shape[1]\n",
    "    N_rows = X.shape[0]\n",
    "    # <Your code goes in here>\n",
    "    sumofsquares=[]\n",
    "    overall_mean = X.mean()\n",
    "    for k in range(N_clusters) :\n",
    "        TSS=0 #Total sum of squares\n",
    "        for x in X:\n",
    "            a = (x-overall_mean)**2\n",
    "            TSS += a\n",
    "        sumofsquares.append(TSS)\n",
    "    return sumofsquares "
   ]
  },
  {
   "cell_type": "markdown",
   "metadata": {
    "id": "kNlDfYUEwtqL"
   },
   "source": [
    "2). Visualize as a Scatter plot the \"total internal sum of squares\" vs N# of clusters. \n",
    "- Then, determine the optimal number of clusters.\n",
    "- Is this number the same as expected?"
   ]
  },
  {
   "cell_type": "code",
   "execution_count": null,
   "metadata": {
    "id": "mqxDq0uYwtqQ"
   },
   "outputs": [],
   "source": [
    "n_cluster = np.array(range(2,10))                   # Array that contains the number of clusters.\n",
    "total_ss = np.array([])                             # Array that will contain the total internal sum of squares.\n",
    "\n",
    "for i in n_cluster :\n",
    "    km = KMeans(n_clusters=i, random_state=0)\n",
    "    km = km.fit(X)\n",
    "    total_ss.append(total_internal_ss(X,km.cluster_centers_, km.labels_))"
   ]
  },
  {
   "cell_type": "code",
   "execution_count": null,
   "metadata": {
    "id": "9NffFrRlwtqV"
   },
   "outputs": [],
   "source": [
    "plt.plot(n_cluster,total_ss, 'bx-')\n",
    "plt.xlabel('k')\n",
    "plt.ylabel('total internal Sum_of_squares')\n",
    "plt.show()"
   ]
  }
 ],
 "metadata": {
  "colab": {
   "name": "problem_0401.ipynb",
   "provenance": []
  },
  "kernelspec": {
   "display_name": "Python 3",
   "language": "python",
   "name": "python3"
  },
  "language_info": {
   "codemirror_mode": {
    "name": "ipython",
    "version": 3
   },
   "file_extension": ".py",
   "mimetype": "text/x-python",
   "name": "python",
   "nbconvert_exporter": "python",
   "pygments_lexer": "ipython3",
   "version": "3.8.8"
  }
 },
 "nbformat": 4,
 "nbformat_minor": 1
}
