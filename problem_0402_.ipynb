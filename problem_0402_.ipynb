{
 "cells": [
  {
   "cell_type": "markdown",
   "metadata": {
    "id": "fymIZnE2HiSk"
   },
   "source": [
    "## Quiz #0402"
   ]
  },
  {
   "cell_type": "markdown",
   "metadata": {
    "id": "ev6UMwZsHiSq"
   },
   "source": [
    "### \"OLS solution\""
   ]
  },
  {
   "cell_type": "code",
   "execution_count": 1,
   "metadata": {
    "id": "KjB62CZXHiSs"
   },
   "outputs": [],
   "source": [
    "import numpy as np\n",
    "import pandas as pd"
   ]
  },
  {
   "cell_type": "markdown",
   "metadata": {
    "id": "anHya6yqHiSt"
   },
   "source": [
    "#### Answer the following question by providing Python code:\n",
    "<br>\n",
    "study = an array that contains the hours of study. This is the explanatory variable. <br>\n",
    "score = an array that contains the test scores. This is the response variable."
   ]
  },
  {
   "cell_type": "code",
   "execution_count": 5,
   "metadata": {
    "id": "medl6inpHiSu"
   },
   "outputs": [],
   "source": [
    "study = np.array([ 3, 4.5, 6, 1.2, 2, 6.9, 6.7, 5.5]).reshape(-1,1)\n",
    "score = np.array([ 88, 85, 90, 80, 81, 92, 95, 90]).reshape(-1,1)"
   ]
  },
  {
   "cell_type": "markdown",
   "metadata": {
    "id": "DmOxv3DsHiSv"
   },
   "source": [
    "1). Define the 'linerRegression' class to match the output shown below:"
   ]
  },
  {
   "cell_type": "code",
   "execution_count": 31,
   "metadata": {
    "id": "cB51PpzbHiSw"
   },
   "outputs": [
    {
     "ename": "SyntaxError",
     "evalue": "invalid syntax (<ipython-input-31-8ae81341f82e>, line 26)",
     "output_type": "error",
     "traceback": [
      "\u001b[1;36m  File \u001b[1;32m\"<ipython-input-31-8ae81341f82e>\"\u001b[1;36m, line \u001b[1;32m26\u001b[0m\n\u001b[1;33m    for i in range n :\u001b[0m\n\u001b[1;37m                   ^\u001b[0m\n\u001b[1;31mSyntaxError\u001b[0m\u001b[1;31m:\u001b[0m invalid syntax\n"
     ]
    }
   ],
   "source": [
    "class linearRegression:\n",
    "    def __init__(self):\n",
    "        return \n",
    "        \n",
    "    def train(self, input_X, input_Y):\n",
    "        n = input_X.shape[0]     # Number of observations.\n",
    "        k = input_X.shape[1]       # Number of explanatory variables.\n",
    "        intercept = np.ones( (n,1) )\n",
    "        #beta = (X'X)^-1 * X'Y\n",
    "        #X = the matrix of regressor data (the first column is all 1’s for the intercept)\n",
    "        #Y =  the vector of the dependent variable data.\n",
    "        X = np.concatenate((intercept, input_X), axis=1)\n",
    "        Y = n[:,0].T\n",
    "        \n",
    "        # Regression Coefficients by OLS.\n",
    "        self.beta = np.dot(np.linalg.inv(np.dot(X.T,X)),np.dot(X.T,Y))\n",
    "        \n",
    "        # Residuals.\n",
    "        self.residuals = Y - np.dot(X,self.beta)\n",
    "        \n",
    "        \n",
    "        # R^2.\n",
    "        nominator = 0\n",
    "        denominator = 0\n",
    "    \n",
    "        for i in range n :\n",
    "            y_pred = self.beta * input_X[i] + self.residuals\n",
    "            denominator += (input_Y[i] - mean_y) ** 2\n",
    "            nominator += (input_Y[i] - y_pred) ** 2\n",
    "        r2 = 1 - (nominator / denominator)               \n",
    "               \n",
    "       \n",
    "        # Summary.\n",
    "        data = {'Coefficient': [self.residuals,self.beta]}\n",
    "        df=pd.DataFrame(data,index=['Intercept',\n",
    "                                    'X1'])\n",
    "\n",
    "\n",
    "\n",
    "        return \n",
    "    \n",
    "\n",
    "\n",
    "    def output(self):\n",
    "        print(self.df)\n",
    "        print('---------------------')\n",
    "        print('R^2 :',self.r2)\n",
    "      # <Your code goes in here>\n",
    "    "
   ]
  },
  {
   "cell_type": "markdown",
   "metadata": {
    "id": "TTNJUDEMHiSy"
   },
   "source": [
    "**Sample run:**"
   ]
  },
  {
   "cell_type": "code",
   "execution_count": null,
   "metadata": {
    "id": "u6tzBl78HiSz",
    "outputId": "1b1bb499-caa2-4066-9ca3-c432837ad970"
   },
   "outputs": [
    {
     "name": "stdout",
     "output_type": "stream",
     "text": [
      "           Coefficient\n",
      "Intercept    77.684670\n",
      "X1            2.221303\n",
      "------------------------------\n",
      "R^2 : 0.845842\n"
     ]
    }
   ],
   "source": [
    "LR = linearRegression()                    # Create a linear regression object.\n",
    "LR.train(study, score)                     # Train.\n",
    "LR.output()                                # Display the training result."
   ]
  }
 ],
 "metadata": {
  "colab": {
   "name": "problem_0402.ipynb",
   "provenance": []
  },
  "kernelspec": {
   "display_name": "Python 3",
   "language": "python",
   "name": "python3"
  },
  "language_info": {
   "codemirror_mode": {
    "name": "ipython",
    "version": 3
   },
   "file_extension": ".py",
   "mimetype": "text/x-python",
   "name": "python",
   "nbconvert_exporter": "python",
   "pygments_lexer": "ipython3",
   "version": "3.8.8"
  }
 },
 "nbformat": 4,
 "nbformat_minor": 1
}
